{
 "cells": [
  {
   "cell_type": "markdown",
   "id": "e4d9f31b-951a-4646-82d2-21d59d0cff10",
   "metadata": {},
   "source": [
    "#### Import Pandas"
   ]
  },
  {
   "cell_type": "code",
   "execution_count": 1,
   "id": "750efb35-e6dc-460a-9458-1a0017a389a2",
   "metadata": {},
   "outputs": [],
   "source": [
    "import pandas as pd"
   ]
  },
  {
   "cell_type": "markdown",
   "id": "28ee7da9-c045-4eee-8d22-7096ec56e63f",
   "metadata": {},
   "source": [
    "#### For Visualizations"
   ]
  },
  {
   "cell_type": "code",
   "execution_count": 2,
   "id": "6d8478ec-44ff-4ce8-8ac4-2eff9df966ae",
   "metadata": {},
   "outputs": [
    {
     "data": {
      "text/html": [
       "        <script type=\"text/javascript\">\n",
       "        window.PlotlyConfig = {MathJaxConfig: 'local'};\n",
       "        if (window.MathJax) {MathJax.Hub.Config({SVG: {font: \"STIX-Web\"}});}\n",
       "        if (typeof require !== 'undefined') {\n",
       "        require.undef(\"plotly\");\n",
       "        requirejs.config({\n",
       "            paths: {\n",
       "                'plotly': ['https://cdn.plot.ly/plotly-2.9.0.min']\n",
       "            }\n",
       "        });\n",
       "        require(['plotly'], function(Plotly) {\n",
       "            window._Plotly = Plotly;\n",
       "        });\n",
       "        }\n",
       "        </script>\n",
       "        "
      ]
     },
     "metadata": {},
     "output_type": "display_data"
    }
   ],
   "source": [
    "import cufflinks as cf; cf.go_offline()\n",
    "import plotly_express as px"
   ]
  },
  {
   "cell_type": "markdown",
   "id": "beeac839-5904-49f7-b08d-ac667171b445",
   "metadata": {},
   "source": [
    "#### Load Data"
   ]
  },
  {
   "cell_type": "code",
   "execution_count": 3,
   "id": "cac18c23-9964-4040-a9f5-829d26552c8d",
   "metadata": {},
   "outputs": [
    {
     "data": {
      "text/html": [
       "<div>\n",
       "<style scoped>\n",
       "    .dataframe tbody tr th:only-of-type {\n",
       "        vertical-align: middle;\n",
       "    }\n",
       "\n",
       "    .dataframe tbody tr th {\n",
       "        vertical-align: top;\n",
       "    }\n",
       "\n",
       "    .dataframe thead th {\n",
       "        text-align: right;\n",
       "    }\n",
       "</style>\n",
       "<table border=\"1\" class=\"dataframe\">\n",
       "  <thead>\n",
       "    <tr style=\"text-align: right;\">\n",
       "      <th></th>\n",
       "      <th>week_id</th>\n",
       "      <th>ad_id</th>\n",
       "      <th>requester</th>\n",
       "      <th>region</th>\n",
       "      <th>is_success</th>\n",
       "      <th>is_sever</th>\n",
       "      <th>recommendation_type</th>\n",
       "      <th>rec_provider</th>\n",
       "    </tr>\n",
       "  </thead>\n",
       "  <tbody>\n",
       "    <tr>\n",
       "      <th>64896</th>\n",
       "      <td>2021-week_37</td>\n",
       "      <td>AD08V8YTD8</td>\n",
       "      <td>Puentes Company</td>\n",
       "      <td>IN</td>\n",
       "      <td>no</td>\n",
       "      <td>True</td>\n",
       "      <td>Yield</td>\n",
       "      <td>UserPopY</td>\n",
       "    </tr>\n",
       "    <tr>\n",
       "      <th>102163</th>\n",
       "      <td>2021-week_40</td>\n",
       "      <td>AD0887VR8N</td>\n",
       "      <td>Search Million Culture</td>\n",
       "      <td>DE</td>\n",
       "      <td>yes</td>\n",
       "      <td>NaN</td>\n",
       "      <td>Qality</td>\n",
       "      <td>DNNQ</td>\n",
       "    </tr>\n",
       "    <tr>\n",
       "      <th>152885</th>\n",
       "      <td>2021-week_43</td>\n",
       "      <td>AD08CXWY8S</td>\n",
       "      <td>RelayFoods</td>\n",
       "      <td>JP</td>\n",
       "      <td>yes</td>\n",
       "      <td>NaN</td>\n",
       "      <td>Qality</td>\n",
       "      <td>UserPopQ</td>\n",
       "    </tr>\n",
       "    <tr>\n",
       "      <th>130860</th>\n",
       "      <td>2021-week_42</td>\n",
       "      <td>AD0888P888</td>\n",
       "      <td>RelayFoods</td>\n",
       "      <td>DE</td>\n",
       "      <td>no</td>\n",
       "      <td>False</td>\n",
       "      <td>Qality</td>\n",
       "      <td>DNNQ</td>\n",
       "    </tr>\n",
       "    <tr>\n",
       "      <th>235686</th>\n",
       "      <td>2021-week_49</td>\n",
       "      <td>AD078Y78PH</td>\n",
       "      <td>Puentes Company</td>\n",
       "      <td>IN</td>\n",
       "      <td>yes</td>\n",
       "      <td>NaN</td>\n",
       "      <td>Yield</td>\n",
       "      <td>UserPopY</td>\n",
       "    </tr>\n",
       "  </tbody>\n",
       "</table>\n",
       "</div>"
      ],
      "text/plain": [
       "             week_id       ad_id               requester region is_success  \\\n",
       "64896   2021-week_37  AD08V8YTD8         Puentes Company     IN         no   \n",
       "102163  2021-week_40  AD0887VR8N  Search Million Culture     DE        yes   \n",
       "152885  2021-week_43  AD08CXWY8S              RelayFoods     JP        yes   \n",
       "130860  2021-week_42  AD0888P888              RelayFoods     DE         no   \n",
       "235686  2021-week_49  AD078Y78PH         Puentes Company     IN        yes   \n",
       "\n",
       "       is_sever recommendation_type rec_provider  \n",
       "64896      True               Yield     UserPopY  \n",
       "102163      NaN              Qality         DNNQ  \n",
       "152885      NaN              Qality     UserPopQ  \n",
       "130860    False              Qality         DNNQ  \n",
       "235686      NaN               Yield     UserPopY  "
      ]
     },
     "execution_count": 3,
     "metadata": {},
     "output_type": "execute_result"
    }
   ],
   "source": [
    "ad_recs_annotated = pd.read_csv('data/ad_annotations.csv')\n",
    "ad_recs_annotated.sample(5)"
   ]
  },
  {
   "cell_type": "markdown",
   "id": "efec7745-2ea7-4037-b819-4da97bd83343",
   "metadata": {},
   "source": [
    "#### First, fix typos (for me)"
   ]
  },
  {
   "cell_type": "code",
   "execution_count": 6,
   "id": "163e2d87-29de-4d05-8dbc-757c59a830ef",
   "metadata": {},
   "outputs": [
    {
     "data": {
      "text/html": [
       "<div>\n",
       "<style scoped>\n",
       "    .dataframe tbody tr th:only-of-type {\n",
       "        vertical-align: middle;\n",
       "    }\n",
       "\n",
       "    .dataframe tbody tr th {\n",
       "        vertical-align: top;\n",
       "    }\n",
       "\n",
       "    .dataframe thead th {\n",
       "        text-align: right;\n",
       "    }\n",
       "</style>\n",
       "<table border=\"1\" class=\"dataframe\">\n",
       "  <thead>\n",
       "    <tr style=\"text-align: right;\">\n",
       "      <th></th>\n",
       "      <th>week_id</th>\n",
       "      <th>ad_id</th>\n",
       "      <th>requester</th>\n",
       "      <th>region</th>\n",
       "      <th>is_success</th>\n",
       "      <th>is_severe</th>\n",
       "      <th>recommendation_type</th>\n",
       "      <th>rec_provider</th>\n",
       "    </tr>\n",
       "  </thead>\n",
       "  <tbody>\n",
       "    <tr>\n",
       "      <th>127821</th>\n",
       "      <td>2021-week_41</td>\n",
       "      <td>AD0988CJZ8</td>\n",
       "      <td>Extreme DA</td>\n",
       "      <td>US</td>\n",
       "      <td>yes</td>\n",
       "      <td>NaN</td>\n",
       "      <td>Yield</td>\n",
       "      <td>RNNY</td>\n",
       "    </tr>\n",
       "    <tr>\n",
       "      <th>223125</th>\n",
       "      <td>2021-week_48</td>\n",
       "      <td>AD0988C8K8</td>\n",
       "      <td>RelayFoods</td>\n",
       "      <td>IN</td>\n",
       "      <td>yes</td>\n",
       "      <td>NaN</td>\n",
       "      <td>Quality</td>\n",
       "      <td>UserPopQ</td>\n",
       "    </tr>\n",
       "    <tr>\n",
       "      <th>101092</th>\n",
       "      <td>2021-week_40</td>\n",
       "      <td>AD007PDDDK</td>\n",
       "      <td>Search Million Culture</td>\n",
       "      <td>DE</td>\n",
       "      <td>no</td>\n",
       "      <td>False</td>\n",
       "      <td>Quality</td>\n",
       "      <td>DNNQ</td>\n",
       "    </tr>\n",
       "    <tr>\n",
       "      <th>112856</th>\n",
       "      <td>2021-week_40</td>\n",
       "      <td>AD007XZU0E</td>\n",
       "      <td>Extreme DA</td>\n",
       "      <td>US</td>\n",
       "      <td>yes</td>\n",
       "      <td>NaN</td>\n",
       "      <td>Yield</td>\n",
       "      <td>DNNY</td>\n",
       "    </tr>\n",
       "    <tr>\n",
       "      <th>128790</th>\n",
       "      <td>2021-week_41</td>\n",
       "      <td>AD077P88V8</td>\n",
       "      <td>Search Million Culture</td>\n",
       "      <td>US</td>\n",
       "      <td>yes</td>\n",
       "      <td>NaN</td>\n",
       "      <td>Quality</td>\n",
       "      <td>RNNQ</td>\n",
       "    </tr>\n",
       "  </tbody>\n",
       "</table>\n",
       "</div>"
      ],
      "text/plain": [
       "             week_id       ad_id               requester region is_success  \\\n",
       "127821  2021-week_41  AD0988CJZ8              Extreme DA     US        yes   \n",
       "223125  2021-week_48  AD0988C8K8              RelayFoods     IN        yes   \n",
       "101092  2021-week_40  AD007PDDDK  Search Million Culture     DE         no   \n",
       "112856  2021-week_40  AD007XZU0E              Extreme DA     US        yes   \n",
       "128790  2021-week_41  AD077P88V8  Search Million Culture     US        yes   \n",
       "\n",
       "       is_severe recommendation_type rec_provider  \n",
       "127821       NaN               Yield         RNNY  \n",
       "223125       NaN             Quality     UserPopQ  \n",
       "101092     False             Quality         DNNQ  \n",
       "112856       NaN               Yield         DNNY  \n",
       "128790       NaN             Quality         RNNQ  "
      ]
     },
     "execution_count": 6,
     "metadata": {},
     "output_type": "execute_result"
    }
   ],
   "source": [
    "#fixing typos\n",
    "ad_recs_annotated = ad_recs_annotated.rename(columns={'is_sever': 'is_severe'})\n",
    "ad_recs_annotated['recommendation_type'].mask(ad_recs_annotated['recommendation_type'] == 'Qality', 'Quality', inplace=True)\n",
    "ad_recs_annotated.sample(5)"
   ]
  },
  {
   "cell_type": "markdown",
   "id": "1ac0fe79-304b-4b5c-bad3-5df6e341b1f1",
   "metadata": {},
   "source": [
    "## Questions"
   ]
  },
  {
   "cell_type": "markdown",
   "id": "a9166170-cbdf-42d4-94fd-50ce6db7fe10",
   "metadata": {},
   "source": [
    "### Data Modifications"
   ]
  },
  {
   "cell_type": "markdown",
   "id": "081832aa-f5d8-4c98-b3b1-1ec0ce10c421",
   "metadata": {},
   "source": [
    "1. Add a column with the sample year"
   ]
  },
  {
   "cell_type": "code",
   "execution_count": 8,
   "id": "507bd660-e426-49b6-a6f3-36f3634a647b",
   "metadata": {},
   "outputs": [
    {
     "data": {
      "text/html": [
       "<div>\n",
       "<style scoped>\n",
       "    .dataframe tbody tr th:only-of-type {\n",
       "        vertical-align: middle;\n",
       "    }\n",
       "\n",
       "    .dataframe tbody tr th {\n",
       "        vertical-align: top;\n",
       "    }\n",
       "\n",
       "    .dataframe thead th {\n",
       "        text-align: right;\n",
       "    }\n",
       "</style>\n",
       "<table border=\"1\" class=\"dataframe\">\n",
       "  <thead>\n",
       "    <tr style=\"text-align: right;\">\n",
       "      <th></th>\n",
       "      <th>week_id</th>\n",
       "      <th>ad_id</th>\n",
       "      <th>requester</th>\n",
       "      <th>region</th>\n",
       "      <th>is_success</th>\n",
       "      <th>is_severe</th>\n",
       "      <th>recommendation_type</th>\n",
       "      <th>rec_provider</th>\n",
       "      <th>sample_year</th>\n",
       "    </tr>\n",
       "  </thead>\n",
       "  <tbody>\n",
       "    <tr>\n",
       "      <th>245317</th>\n",
       "      <td>2021-week_50</td>\n",
       "      <td>AD09FSW6DC</td>\n",
       "      <td>Search Million Culture</td>\n",
       "      <td>DE</td>\n",
       "      <td>yes</td>\n",
       "      <td>NaN</td>\n",
       "      <td>Quality</td>\n",
       "      <td>UserPopQ</td>\n",
       "      <td>2021</td>\n",
       "    </tr>\n",
       "  </tbody>\n",
       "</table>\n",
       "</div>"
      ],
      "text/plain": [
       "             week_id       ad_id               requester region is_success  \\\n",
       "245317  2021-week_50  AD09FSW6DC  Search Million Culture     DE        yes   \n",
       "\n",
       "       is_severe recommendation_type rec_provider sample_year  \n",
       "245317       NaN             Quality     UserPopQ        2021  "
      ]
     },
     "execution_count": 8,
     "metadata": {},
     "output_type": "execute_result"
    }
   ],
   "source": [
    "ad_recs_annotated['sample_year'] = ad_recs_annotated['week_id'].str.split('-').str[0]\n",
    "ad_recs_annotated.sample(1)"
   ]
  },
  {
   "cell_type": "markdown",
   "id": "7ae0ad06-831a-481b-920f-63e083c6c636",
   "metadata": {},
   "source": [
    "2. Add a column with the sample quarter (google how to)"
   ]
  },
  {
   "cell_type": "code",
   "execution_count": 9,
   "id": "0d84077c-1065-4704-84f3-02317e11ffbf",
   "metadata": {},
   "outputs": [
    {
     "data": {
      "text/html": [
       "<div>\n",
       "<style scoped>\n",
       "    .dataframe tbody tr th:only-of-type {\n",
       "        vertical-align: middle;\n",
       "    }\n",
       "\n",
       "    .dataframe tbody tr th {\n",
       "        vertical-align: top;\n",
       "    }\n",
       "\n",
       "    .dataframe thead th {\n",
       "        text-align: right;\n",
       "    }\n",
       "</style>\n",
       "<table border=\"1\" class=\"dataframe\">\n",
       "  <thead>\n",
       "    <tr style=\"text-align: right;\">\n",
       "      <th></th>\n",
       "      <th>week_id</th>\n",
       "      <th>ad_id</th>\n",
       "      <th>requester</th>\n",
       "      <th>region</th>\n",
       "      <th>is_success</th>\n",
       "      <th>is_severe</th>\n",
       "      <th>recommendation_type</th>\n",
       "      <th>rec_provider</th>\n",
       "      <th>sample_year</th>\n",
       "      <th>week_num</th>\n",
       "      <th>quarter</th>\n",
       "    </tr>\n",
       "  </thead>\n",
       "  <tbody>\n",
       "    <tr>\n",
       "      <th>246813</th>\n",
       "      <td>2021-week_50</td>\n",
       "      <td>AD07J8YKT6</td>\n",
       "      <td>MoJoe Brewing Company</td>\n",
       "      <td>GB</td>\n",
       "      <td>yes</td>\n",
       "      <td>NaN</td>\n",
       "      <td>Yield</td>\n",
       "      <td>RuleBasedY</td>\n",
       "      <td>2021</td>\n",
       "      <td>50</td>\n",
       "      <td>4</td>\n",
       "    </tr>\n",
       "  </tbody>\n",
       "</table>\n",
       "</div>"
      ],
      "text/plain": [
       "             week_id       ad_id              requester region is_success  \\\n",
       "246813  2021-week_50  AD07J8YKT6  MoJoe Brewing Company     GB        yes   \n",
       "\n",
       "       is_severe recommendation_type rec_provider sample_year  week_num  \\\n",
       "246813       NaN               Yield   RuleBasedY        2021        50   \n",
       "\n",
       "        quarter  \n",
       "246813        4  "
      ]
     },
     "execution_count": 9,
     "metadata": {},
     "output_type": "execute_result"
    }
   ],
   "source": [
    "ad_recs_annotated['week_num'] = ad_recs_annotated['week_id'].str[-2:].astype(int)\n",
    "ad_recs_annotated['quarter'] = ((ad_recs_annotated['week_num']-1) // 13) + 1\n",
    "ad_recs_annotated.sample(1)"
   ]
  },
  {
   "cell_type": "markdown",
   "id": "5a65784a-12ab-4cac-8626-46f3cfdd8702",
   "metadata": {},
   "source": [
    "3. Add a new success column with values 1 and 0 for yes and no "
   ]
  },
  {
   "cell_type": "code",
   "execution_count": 10,
   "id": "30741831-695a-4ad2-ad0a-42cafecd609a",
   "metadata": {},
   "outputs": [
    {
     "data": {
      "text/html": [
       "<div>\n",
       "<style scoped>\n",
       "    .dataframe tbody tr th:only-of-type {\n",
       "        vertical-align: middle;\n",
       "    }\n",
       "\n",
       "    .dataframe tbody tr th {\n",
       "        vertical-align: top;\n",
       "    }\n",
       "\n",
       "    .dataframe thead th {\n",
       "        text-align: right;\n",
       "    }\n",
       "</style>\n",
       "<table border=\"1\" class=\"dataframe\">\n",
       "  <thead>\n",
       "    <tr style=\"text-align: right;\">\n",
       "      <th></th>\n",
       "      <th>week_id</th>\n",
       "      <th>ad_id</th>\n",
       "      <th>requester</th>\n",
       "      <th>region</th>\n",
       "      <th>is_success</th>\n",
       "      <th>is_severe</th>\n",
       "      <th>recommendation_type</th>\n",
       "      <th>rec_provider</th>\n",
       "      <th>sample_year</th>\n",
       "      <th>week_num</th>\n",
       "      <th>quarter</th>\n",
       "      <th>is_success_flag</th>\n",
       "    </tr>\n",
       "  </thead>\n",
       "  <tbody>\n",
       "    <tr>\n",
       "      <th>336069</th>\n",
       "      <td>2022-week_05</td>\n",
       "      <td>AD098C8Y98</td>\n",
       "      <td>RelayFoods</td>\n",
       "      <td>IN</td>\n",
       "      <td>no</td>\n",
       "      <td>False</td>\n",
       "      <td>Quality</td>\n",
       "      <td>UserPopQ</td>\n",
       "      <td>2022</td>\n",
       "      <td>5</td>\n",
       "      <td>1</td>\n",
       "      <td>0</td>\n",
       "    </tr>\n",
       "  </tbody>\n",
       "</table>\n",
       "</div>"
      ],
      "text/plain": [
       "             week_id       ad_id   requester region is_success is_severe  \\\n",
       "336069  2022-week_05  AD098C8Y98  RelayFoods     IN         no     False   \n",
       "\n",
       "       recommendation_type rec_provider sample_year  week_num  quarter  \\\n",
       "336069             Quality     UserPopQ        2022         5        1   \n",
       "\n",
       "        is_success_flag  \n",
       "336069                0  "
      ]
     },
     "execution_count": 10,
     "metadata": {},
     "output_type": "execute_result"
    }
   ],
   "source": [
    "ad_recs_annotated['is_success_flag'] = ad_recs_annotated['is_success'].apply(lambda x: 1 if x=='yes' else 0)\n",
    "ad_recs_annotated.sample(1)"
   ]
  },
  {
   "cell_type": "markdown",
   "id": "b1a3de66-b878-4501-a7aa-4620028376b6",
   "metadata": {},
   "source": [
    "4. Are there any NaNs in the is_sever column? Count how many and create a new column with NaNs filled as False. Check that indeed the new column contaion no NaNs."
   ]
  },
  {
   "cell_type": "code",
   "execution_count": 16,
   "id": "3eff6dec-4529-452f-a56a-398db025eef3",
   "metadata": {},
   "outputs": [
    {
     "name": "stdout",
     "output_type": "stream",
     "text": [
      "True     304195\n",
      "False     69593\n",
      "Name: is_severe, dtype: int64\n",
      "False    329099\n",
      "True      44689\n",
      "Name: is_severe_no_nans, dtype: int64\n",
      "False    373788\n",
      "Name: is_severe_no_nans, dtype: int64\n"
     ]
    }
   ],
   "source": [
    "print(ad_recs_annotated['is_severe'].isna().value_counts())\n",
    "ad_recs_annotated['is_severe_no_nans'] = ad_recs_annotated['is_severe'].fillna(False)\n",
    "print(ad_recs_annotated['is_severe_no_nans'].value_counts())\n",
    "print(ad_recs_annotated['is_severe_no_nans'].isna().value_counts())"
   ]
  },
  {
   "cell_type": "markdown",
   "id": "f4cc2cba-6274-45d9-ae25-26adba9559d8",
   "metadata": {},
   "source": [
    "5. Capitlize (first letter only) the is_success column (Inplace)"
   ]
  },
  {
   "cell_type": "code",
   "execution_count": 17,
   "id": "af00ddcb-ba8a-45b0-b436-c635c3d4a922",
   "metadata": {},
   "outputs": [
    {
     "data": {
      "text/plain": [
       "364508    Yes\n",
       "Name: is_success, dtype: object"
      ]
     },
     "execution_count": 17,
     "metadata": {},
     "output_type": "execute_result"
    }
   ],
   "source": [
    "ad_recs_annotated['is_success'] = ad_recs_annotated['is_success'].apply(lambda x: x.capitalize())\n",
    "ad_recs_annotated['is_success'].sample(1)"
   ]
  },
  {
   "cell_type": "markdown",
   "id": "08abe87a-1c85-4676-8ddc-e78ebda10270",
   "metadata": {},
   "source": [
    "### Subset selection"
   ]
  },
  {
   "cell_type": "markdown",
   "id": "c3035d6a-5480-47c8-b87f-87c51d7dee2f",
   "metadata": {},
   "source": [
    "for each question, sub-select the data by using the conditional selection (`[]`) and the `.query` API. Use `.shape` on the subselection to obtain the result.  \n",
    "For example:\n",
    "`df.query('some_condition').shape`"
   ]
  },
  {
   "cell_type": "markdown",
   "id": "d9fa3e91-4d7d-4645-bdf3-049678d87c2f",
   "metadata": {},
   "source": [
    "1. How many requests are there in US region? "
   ]
  },
  {
   "cell_type": "code",
   "execution_count": 18,
   "id": "f8b59bf9-b108-4fd5-ba27-f3f1e7d2adbd",
   "metadata": {},
   "outputs": [
    {
     "data": {
      "text/plain": [
       "103846"
      ]
     },
     "execution_count": 18,
     "metadata": {},
     "output_type": "execute_result"
    }
   ],
   "source": [
    "ad_recs_annotated.loc[ad_recs_annotated['region']=='US'].shape[0]"
   ]
  },
  {
   "cell_type": "code",
   "execution_count": 19,
   "id": "d7d5fa22-ffe7-4e5f-a4c5-16c740501c70",
   "metadata": {},
   "outputs": [
    {
     "data": {
      "text/plain": [
       "103846"
      ]
     },
     "execution_count": 19,
     "metadata": {},
     "output_type": "execute_result"
    }
   ],
   "source": [
    "ad_recs_annotated.query(\"region=='US'\").shape[0]"
   ]
  },
  {
   "cell_type": "markdown",
   "id": "b5f9bde7-a78b-42be-8e0b-5486dd563f89",
   "metadata": {},
   "source": [
    "2. How many **successful** requests are there in US region? "
   ]
  },
  {
   "cell_type": "code",
   "execution_count": 20,
   "id": "2020be5c-2dab-489e-983b-25f9b306c326",
   "metadata": {},
   "outputs": [
    {
     "data": {
      "text/plain": [
       "(88918, 13)"
      ]
     },
     "execution_count": 20,
     "metadata": {},
     "output_type": "execute_result"
    }
   ],
   "source": [
    "ad_recs_annotated[(ad_recs_annotated['region']=='US') & (ad_recs_annotated['is_success_flag']==1)].shape"
   ]
  },
  {
   "cell_type": "code",
   "execution_count": 21,
   "id": "ed701ed1-62ef-48c4-a142-015567931b26",
   "metadata": {},
   "outputs": [
    {
     "data": {
      "text/plain": [
       "(88918, 13)"
      ]
     },
     "execution_count": 21,
     "metadata": {},
     "output_type": "execute_result"
    }
   ],
   "source": [
    "ad_recs_annotated.query(\"region=='US' and is_success_flag==1\").shape"
   ]
  },
  {
   "cell_type": "markdown",
   "id": "56d573de-c7fa-4db2-878b-860b03784e1c",
   "metadata": {},
   "source": [
    "3. How many **successful** requests are there in US region, on week 52?"
   ]
  },
  {
   "cell_type": "code",
   "execution_count": 25,
   "id": "80bb6671-d79c-4c0a-9875-ad1a3caadc4b",
   "metadata": {},
   "outputs": [
    {
     "data": {
      "text/plain": [
       "(3342, 13)"
      ]
     },
     "execution_count": 25,
     "metadata": {},
     "output_type": "execute_result"
    }
   ],
   "source": [
    "ad_recs_annotated[(ad_recs_annotated['region']=='US') & (ad_recs_annotated['is_success_flag']==1)\\\n",
    "                  & (ad_recs_annotated['week_num']==52)].shape"
   ]
  },
  {
   "cell_type": "code",
   "execution_count": 27,
   "id": "130a52a8-439e-4af1-b974-78b0de3fa612",
   "metadata": {},
   "outputs": [
    {
     "data": {
      "text/plain": [
       "(3342, 13)"
      ]
     },
     "execution_count": 27,
     "metadata": {},
     "output_type": "execute_result"
    }
   ],
   "source": [
    "ad_recs_annotated.query(\"region=='US' and is_success_flag==1 and week_num==52\").shape"
   ]
  },
  {
   "cell_type": "markdown",
   "id": "56d38ace-e57c-4655-97ac-f88928e672b6",
   "metadata": {},
   "source": [
    "4. How many requests where delivered by DNNQ, RNNY and UserPopQ together? "
   ]
  },
  {
   "cell_type": "code",
   "execution_count": 28,
   "id": "925801cd-a8c4-433b-adea-59ed14330cff",
   "metadata": {},
   "outputs": [
    {
     "data": {
      "text/plain": [
       "(69937, 13)"
      ]
     },
     "execution_count": 28,
     "metadata": {},
     "output_type": "execute_result"
    }
   ],
   "source": [
    "ad_recs_annotated[ad_recs_annotated['rec_provider'].isin(['DDNQ', 'RRNY', 'UserPopQ'])].shape"
   ]
  },
  {
   "cell_type": "code",
   "execution_count": 29,
   "id": "839db0ca-2b0d-465a-b214-c91f42eb6a97",
   "metadata": {},
   "outputs": [
    {
     "data": {
      "text/plain": [
       "(69937, 13)"
      ]
     },
     "execution_count": 29,
     "metadata": {},
     "output_type": "execute_result"
    }
   ],
   "source": [
    "ad_recs_annotated.query(\"rec_provider in ('DDNQ', 'RRNY', 'UserPopQ')\").shape"
   ]
  },
  {
   "cell_type": "markdown",
   "id": "2a524da0-0ecb-45ba-9801-d4a470329d73",
   "metadata": {},
   "source": [
    "5. How many requests where delivered by rule based providers? "
   ]
  },
  {
   "cell_type": "code",
   "execution_count": 30,
   "id": "167633dd-6116-4081-a104-721197f368fe",
   "metadata": {},
   "outputs": [
    {
     "data": {
      "text/plain": [
       "(28336, 13)"
      ]
     },
     "execution_count": 30,
     "metadata": {},
     "output_type": "execute_result"
    }
   ],
   "source": [
    "ad_recs_annotated[(ad_recs_annotated['rec_provider'].str.contains('RuleBased', regex=False))].shape"
   ]
  },
  {
   "cell_type": "code",
   "execution_count": 34,
   "id": "2c7cc724-6b29-42fa-b484-426998528fd5",
   "metadata": {},
   "outputs": [
    {
     "data": {
      "text/plain": [
       "(28336, 13)"
      ]
     },
     "execution_count": 34,
     "metadata": {},
     "output_type": "execute_result"
    }
   ],
   "source": [
    "ad_recs_annotated.query('rec_provider.str.contains(\"RuleBased\")', engine='python').shape"
   ]
  },
  {
   "cell_type": "markdown",
   "id": "d61a0481-abb1-4741-9170-3abbd56e68a6",
   "metadata": {},
   "source": [
    "6. Select only the requests from 2021 - How many are there? "
   ]
  },
  {
   "cell_type": "code",
   "execution_count": 35,
   "id": "420cd8f3-6738-41be-820b-abd5cbab007f",
   "metadata": {},
   "outputs": [
    {
     "name": "stdout",
     "output_type": "stream",
     "text": [
      "(271615, 13)\n",
      "(271615, 13)\n"
     ]
    }
   ],
   "source": [
    "print(ad_recs_annotated[ad_recs_annotated['sample_year']=='2021'].shape)\n",
    "print(ad_recs_annotated.query(\"sample_year == '2021'\").shape)"
   ]
  },
  {
   "cell_type": "markdown",
   "id": "cc758785-d690-43bf-aeeb-503b4ed7bfb9",
   "metadata": {},
   "source": [
    "7. Select the reqeusts from week 30 to week 40 - How many are there? "
   ]
  },
  {
   "cell_type": "code",
   "execution_count": 36,
   "id": "92bea96f-c2b4-4d9f-bc67-5b498b57a21f",
   "metadata": {},
   "outputs": [
    {
     "name": "stdout",
     "output_type": "stream",
     "text": [
      "(115051, 13)\n",
      "(115051, 13)\n"
     ]
    }
   ],
   "source": [
    "print(ad_recs_annotated[ad_recs_annotated['week_num'].between(30,40)].shape)\n",
    "print(ad_recs_annotated.query(\"week_num >= 30 and week_num <= 40\").shape)"
   ]
  },
  {
   "cell_type": "markdown",
   "id": "18fd9c2b-7f50-4d48-89f7-4448164a98f4",
   "metadata": {},
   "source": [
    "8. Select all the data that comes from the most popular Ad"
   ]
  },
  {
   "cell_type": "code",
   "execution_count": 43,
   "id": "1388a2bd-b22b-4065-b791-dad58e704d70",
   "metadata": {},
   "outputs": [
    {
     "name": "stdout",
     "output_type": "stream",
     "text": [
      "AD07PFFMP9    247\n",
      "Name: ad_id, dtype: int64\n",
      "AD07PFFMP9\n",
      "0    AD07PFFMP9\n",
      "dtype: object\n"
     ]
    }
   ],
   "source": [
    "print(ad_recs_annotated['ad_id'].value_counts()[:1])\n",
    "print(ad_recs_annotated.ad_id.value_counts().idxmax())\n",
    "print(ad_recs_annotated.ad_id.mode())\n",
    "#not sure how this can be done with query method"
   ]
  },
  {
   "cell_type": "markdown",
   "id": "000f220f-d4b5-44d4-81d2-cdb97b110322",
   "metadata": {},
   "source": [
    "9. Select all the data that comes from the least popular provider"
   ]
  },
  {
   "cell_type": "code",
   "execution_count": 47,
   "id": "1b516d86-9857-4e31-a81e-4102e93e829f",
   "metadata": {},
   "outputs": [
    {
     "name": "stdout",
     "output_type": "stream",
     "text": [
      "UserPopSelectionY\n",
      "(21, 13)\n",
      "(21, 13)\n"
     ]
    }
   ],
   "source": [
    "#least_pop = ad_recs_annotated['rec_provider'].value_counts()[-1:].index.tolist()[0]\n",
    "least_pop = ad_recs_annotated.rec_provider.value_counts().idxmin()\n",
    "print(least_pop)\n",
    "print(ad_recs_annotated[ad_recs_annotated['rec_provider']==least_pop].shape)\n",
    "print(ad_recs_annotated.query(\"rec_provider == 'UserPopSelectionY'\").shape)"
   ]
  },
  {
   "cell_type": "markdown",
   "id": "2a8cbe40-95e1-4cf8-a444-55042a514a00",
   "metadata": {},
   "source": [
    "10. Select the data in which is_sever is None. How big is it? "
   ]
  },
  {
   "cell_type": "code",
   "execution_count": 48,
   "id": "e235802b-593f-422f-930a-b8c414853bfe",
   "metadata": {},
   "outputs": [
    {
     "name": "stdout",
     "output_type": "stream",
     "text": [
      "(304195, 13)\n"
     ]
    },
    {
     "data": {
      "text/plain": [
       "(304195, 13)"
      ]
     },
     "execution_count": 48,
     "metadata": {},
     "output_type": "execute_result"
    }
   ],
   "source": [
    "print(ad_recs_annotated[ad_recs_annotated['is_severe'].isna()].shape)\n",
    "ad_recs_annotated.query(\"is_severe != is_severe\").shape"
   ]
  },
  {
   "cell_type": "markdown",
   "id": "e38b80b2-2c07-4e1f-9f70-f1870afc0020",
   "metadata": {},
   "source": [
    "11. Select the data in which the requester is a 3 word company"
   ]
  },
  {
   "cell_type": "code",
   "execution_count": 49,
   "id": "006ad2b5-f021-4249-84cd-b1e4070bab0a",
   "metadata": {},
   "outputs": [
    {
     "name": "stdout",
     "output_type": "stream",
     "text": [
      "(118141, 13)\n"
     ]
    }
   ],
   "source": [
    "print(ad_recs_annotated[ad_recs_annotated['requester'].apply(lambda x: len(x.split())==3)].shape)"
   ]
  },
  {
   "cell_type": "markdown",
   "id": "a907dff3-c81d-473c-a6f0-03e7e930ac54",
   "metadata": {},
   "source": [
    "12. Select the data in which the requester is a 3 word company, and the ad_id has the letter 6 in it"
   ]
  },
  {
   "cell_type": "code",
   "execution_count": 50,
   "id": "77d8e45a-5db1-4d23-8113-07d3e407b1ca",
   "metadata": {},
   "outputs": [
    {
     "data": {
      "text/plain": [
       "(24197, 13)"
      ]
     },
     "execution_count": 50,
     "metadata": {},
     "output_type": "execute_result"
    }
   ],
   "source": [
    "ad_recs_annotated[(ad_recs_annotated['requester'].apply(lambda x: len(x.split())==3))\\\n",
    "                  & (ad_recs_annotated['ad_id'].str.contains('6', regex=False))].shape"
   ]
  },
  {
   "cell_type": "markdown",
   "id": "7e2c2000-518c-41fd-99c2-edf787cf41d3",
   "metadata": {},
   "source": [
    "13. Select the data in which the requester is a 3 word company, and the multiplication of all the numbers in the ad_id is bigger than 30"
   ]
  },
  {
   "cell_type": "code",
   "execution_count": 99,
   "id": "1dd3c875-e086-4612-9892-6af9e86fef91",
   "metadata": {},
   "outputs": [],
   "source": [
    "import functools\n",
    "\n",
    "def get_id_prod(exp):\n",
    "    a = ''.join(x for x in exp if x.isdigit())\n",
    "    b = [int(i) for i in a]\n",
    "    prod = functools.reduce (lambda x, y: x * y, b)\n",
    "    return prod"
   ]
  },
  {
   "cell_type": "code",
   "execution_count": 122,
   "id": "491daa84-ff4a-4bc2-a39e-1d0b9c1f9eda",
   "metadata": {},
   "outputs": [
    {
     "data": {
      "text/plain": [
       "(983, 13)"
      ]
     },
     "execution_count": 122,
     "metadata": {},
     "output_type": "execute_result"
    }
   ],
   "source": [
    "ad_recs_annotated[(ad_recs_annotated.ad_id.apply(lambda x: get_id_prod(x)) > 30) \\\n",
    "                  & (ad_recs_annotated['requester'].apply(lambda x: len(x.split())==3))].shape"
   ]
  },
  {
   "cell_type": "markdown",
   "id": "065a03ee-2c35-4936-b585-a8dc8d5db411",
   "metadata": {},
   "source": [
    "### Analysis"
   ]
  },
  {
   "cell_type": "markdown",
   "id": "2bdb20a5-68d5-45c4-a6eb-9374c415b66b",
   "metadata": {},
   "source": [
    "1. How many weeks available in the data? Are there any missing weeks? "
   ]
  },
  {
   "cell_type": "code",
   "execution_count": 128,
   "id": "51da5972-7334-49b2-9f68-a1b21d008f00",
   "metadata": {},
   "outputs": [
    {
     "data": {
      "text/plain": [
       "['2021-week_33',\n",
       " '2021-week_34',\n",
       " '2021-week_35',\n",
       " '2021-week_36',\n",
       " '2021-week_37',\n",
       " '2021-week_38',\n",
       " '2021-week_39',\n",
       " '2021-week_40',\n",
       " '2021-week_41',\n",
       " '2021-week_42',\n",
       " '2021-week_43',\n",
       " '2021-week_44',\n",
       " '2021-week_45',\n",
       " '2021-week_46',\n",
       " '2021-week_47',\n",
       " '2021-week_48',\n",
       " '2021-week_49',\n",
       " '2021-week_50',\n",
       " '2021-week_51',\n",
       " '2022-week_01',\n",
       " '2022-week_02',\n",
       " '2022-week_03',\n",
       " '2022-week_04',\n",
       " '2022-week_05',\n",
       " '2022-week_06',\n",
       " '2022-week_52']"
      ]
     },
     "execution_count": 128,
     "metadata": {},
     "output_type": "execute_result"
    }
   ],
   "source": [
    "sorted(ad_recs_annotated.week_id.unique())"
   ]
  },
  {
   "cell_type": "code",
   "execution_count": 129,
   "id": "04b641c1-137f-48ee-8219-63dec1a28807",
   "metadata": {},
   "outputs": [
    {
     "data": {
      "text/plain": [
       "2021-week_33    14356\n",
       "2021-week_34    14371\n",
       "2021-week_35    14373\n",
       "2021-week_36    14390\n",
       "2021-week_37    14392\n",
       "2021-week_38    14347\n",
       "2021-week_39    14416\n",
       "2021-week_40    14406\n",
       "2021-week_41    14380\n",
       "2021-week_42    14376\n",
       "2021-week_43    14367\n",
       "2021-week_44    14299\n",
       "2021-week_45    14440\n",
       "2021-week_46    14350\n",
       "2021-week_47    14402\n",
       "2021-week_48    14404\n",
       "2021-week_49    14337\n",
       "2021-week_50    14404\n",
       "2021-week_51    12805\n",
       "2022-week_01    14385\n",
       "2022-week_02    14423\n",
       "2022-week_03    14317\n",
       "2022-week_04    14367\n",
       "2022-week_05    14362\n",
       "2022-week_06    14389\n",
       "2022-week_52    15930\n",
       "Name: week_id, dtype: int64"
      ]
     },
     "execution_count": 129,
     "metadata": {},
     "output_type": "execute_result"
    }
   ],
   "source": [
    "ad_recs_annotated.week_id.value_counts().sort_index()"
   ]
  },
  {
   "cell_type": "code",
   "execution_count": 130,
   "id": "b250a359-ee92-4059-a14d-7132aa2e8cca",
   "metadata": {},
   "outputs": [
    {
     "data": {
      "text/plain": [
       "sample_year\n",
       "2021    19\n",
       "2022     7\n",
       "dtype: int64"
      ]
     },
     "execution_count": 130,
     "metadata": {},
     "output_type": "execute_result"
    }
   ],
   "source": [
    "df2 = ad_recs_annotated.groupby(['week_num', 'sample_year']).size().to_frame()\n",
    "df2.drop([0], axis=1, inplace=True)\n",
    "df2.groupby('sample_year').size()"
   ]
  },
  {
   "cell_type": "markdown",
   "id": "9000ab2a-8af8-4423-9349-4e2bd13eab3c",
   "metadata": {},
   "source": [
    "2. How many regions available in the data? Are there any missing weeks per region?"
   ]
  },
  {
   "cell_type": "code",
   "execution_count": 131,
   "id": "172ba7eb-dc95-4fa1-9f2b-5bd2f53df5b8",
   "metadata": {},
   "outputs": [
    {
     "data": {
      "text/html": [
       "<div>\n",
       "<style scoped>\n",
       "    .dataframe tbody tr th:only-of-type {\n",
       "        vertical-align: middle;\n",
       "    }\n",
       "\n",
       "    .dataframe tbody tr th {\n",
       "        vertical-align: top;\n",
       "    }\n",
       "\n",
       "    .dataframe thead th {\n",
       "        text-align: right;\n",
       "    }\n",
       "</style>\n",
       "<table border=\"1\" class=\"dataframe\">\n",
       "  <thead>\n",
       "    <tr style=\"text-align: right;\">\n",
       "      <th></th>\n",
       "      <th>week_id</th>\n",
       "    </tr>\n",
       "    <tr>\n",
       "      <th>region</th>\n",
       "      <th></th>\n",
       "    </tr>\n",
       "  </thead>\n",
       "  <tbody>\n",
       "    <tr>\n",
       "      <th>DE</th>\n",
       "      <td>26</td>\n",
       "    </tr>\n",
       "    <tr>\n",
       "      <th>GB</th>\n",
       "      <td>26</td>\n",
       "    </tr>\n",
       "    <tr>\n",
       "      <th>IN</th>\n",
       "      <td>26</td>\n",
       "    </tr>\n",
       "    <tr>\n",
       "      <th>JP</th>\n",
       "      <td>25</td>\n",
       "    </tr>\n",
       "    <tr>\n",
       "      <th>US</th>\n",
       "      <td>26</td>\n",
       "    </tr>\n",
       "  </tbody>\n",
       "</table>\n",
       "</div>"
      ],
      "text/plain": [
       "        week_id\n",
       "region         \n",
       "DE           26\n",
       "GB           26\n",
       "IN           26\n",
       "JP           25\n",
       "US           26"
      ]
     },
     "execution_count": 131,
     "metadata": {},
     "output_type": "execute_result"
    }
   ],
   "source": [
    "df2 = ad_recs_annotated[['region','week_id']]\n",
    "df2.groupby('region').nunique()"
   ]
  },
  {
   "cell_type": "code",
   "execution_count": 346,
   "id": "be75df0b-2dc0-49d2-aabf-190ec4aa1231",
   "metadata": {},
   "outputs": [
    {
     "data": {
      "text/html": [
       "<div>\n",
       "<style scoped>\n",
       "    .dataframe tbody tr th:only-of-type {\n",
       "        vertical-align: middle;\n",
       "    }\n",
       "\n",
       "    .dataframe tbody tr th {\n",
       "        vertical-align: top;\n",
       "    }\n",
       "\n",
       "    .dataframe thead th {\n",
       "        text-align: right;\n",
       "    }\n",
       "</style>\n",
       "<table border=\"1\" class=\"dataframe\">\n",
       "  <thead>\n",
       "    <tr style=\"text-align: right;\">\n",
       "      <th></th>\n",
       "      <th>week_num</th>\n",
       "    </tr>\n",
       "    <tr>\n",
       "      <th>region</th>\n",
       "      <th></th>\n",
       "    </tr>\n",
       "  </thead>\n",
       "  <tbody>\n",
       "    <tr>\n",
       "      <th>DE</th>\n",
       "      <td>[33, 34, 35, 36, 37, 38, 39, 40, 41, 42, 43, 4...</td>\n",
       "    </tr>\n",
       "    <tr>\n",
       "      <th>GB</th>\n",
       "      <td>[33, 34, 35, 36, 37, 38, 39, 40, 41, 42, 43, 4...</td>\n",
       "    </tr>\n",
       "    <tr>\n",
       "      <th>IN</th>\n",
       "      <td>[33, 34, 35, 36, 37, 38, 39, 40, 41, 42, 43, 4...</td>\n",
       "    </tr>\n",
       "    <tr>\n",
       "      <th>JP</th>\n",
       "      <td>[33, 34, 35, 36, 37, 38, 39, 40, 41, 42, 43, 4...</td>\n",
       "    </tr>\n",
       "    <tr>\n",
       "      <th>US</th>\n",
       "      <td>[33, 34, 35, 36, 37, 38, 39, 40, 41, 42, 43, 4...</td>\n",
       "    </tr>\n",
       "  </tbody>\n",
       "</table>\n",
       "</div>"
      ],
      "text/plain": [
       "                                                 week_num\n",
       "region                                                   \n",
       "DE      [33, 34, 35, 36, 37, 38, 39, 40, 41, 42, 43, 4...\n",
       "GB      [33, 34, 35, 36, 37, 38, 39, 40, 41, 42, 43, 4...\n",
       "IN      [33, 34, 35, 36, 37, 38, 39, 40, 41, 42, 43, 4...\n",
       "JP      [33, 34, 35, 36, 37, 38, 39, 40, 41, 42, 43, 4...\n",
       "US      [33, 34, 35, 36, 37, 38, 39, 40, 41, 42, 43, 4..."
      ]
     },
     "execution_count": 346,
     "metadata": {},
     "output_type": "execute_result"
    }
   ],
   "source": [
    "rdf = ad_recs_annotated.groupby('region').week_num.unique().to_frame()\n",
    "rdf"
   ]
  },
  {
   "cell_type": "code",
   "execution_count": 349,
   "id": "334b5162-2c25-4496-ab51-9c8441e545af",
   "metadata": {},
   "outputs": [],
   "source": [
    "lol = ad_recs_annotated.groupby('region').week_num.unique().tolist()\n",
    "lols = [set(l) for l in lol]"
   ]
  },
  {
   "cell_type": "code",
   "execution_count": 350,
   "id": "06bbdbfc-ac70-46be-b082-ef4fb10dd1d5",
   "metadata": {},
   "outputs": [],
   "source": [
    "def comp_sets(s):\n",
    "    diff_list = []\n",
    "    for i in lols:\n",
    "        diff_list.append(s.symmetric_difference(i))\n",
    "    return diff_list"
   ]
  },
  {
   "cell_type": "code",
   "execution_count": 352,
   "id": "8727f2da-a198-40e4-b408-3c0e1ea6a5e4",
   "metadata": {},
   "outputs": [
    {
     "data": {
      "text/html": [
       "<div>\n",
       "<style scoped>\n",
       "    .dataframe tbody tr th:only-of-type {\n",
       "        vertical-align: middle;\n",
       "    }\n",
       "\n",
       "    .dataframe tbody tr th {\n",
       "        vertical-align: top;\n",
       "    }\n",
       "\n",
       "    .dataframe thead th {\n",
       "        text-align: right;\n",
       "    }\n",
       "</style>\n",
       "<table border=\"1\" class=\"dataframe\">\n",
       "  <thead>\n",
       "    <tr style=\"text-align: right;\">\n",
       "      <th></th>\n",
       "      <th>week_num</th>\n",
       "      <th>diff</th>\n",
       "    </tr>\n",
       "    <tr>\n",
       "      <th>region</th>\n",
       "      <th></th>\n",
       "      <th></th>\n",
       "    </tr>\n",
       "  </thead>\n",
       "  <tbody>\n",
       "    <tr>\n",
       "      <th>DE</th>\n",
       "      <td>[33, 34, 35, 36, 37, 38, 39, 40, 41, 42, 43, 4...</td>\n",
       "      <td>[{}, {}, {}, {51}, {}]</td>\n",
       "    </tr>\n",
       "    <tr>\n",
       "      <th>GB</th>\n",
       "      <td>[33, 34, 35, 36, 37, 38, 39, 40, 41, 42, 43, 4...</td>\n",
       "      <td>[{}, {}, {}, {51}, {}]</td>\n",
       "    </tr>\n",
       "    <tr>\n",
       "      <th>IN</th>\n",
       "      <td>[33, 34, 35, 36, 37, 38, 39, 40, 41, 42, 43, 4...</td>\n",
       "      <td>[{}, {}, {}, {51}, {}]</td>\n",
       "    </tr>\n",
       "    <tr>\n",
       "      <th>JP</th>\n",
       "      <td>[33, 34, 35, 36, 37, 38, 39, 40, 41, 42, 43, 4...</td>\n",
       "      <td>[{51}, {51}, {51}, {}, {51}]</td>\n",
       "    </tr>\n",
       "    <tr>\n",
       "      <th>US</th>\n",
       "      <td>[33, 34, 35, 36, 37, 38, 39, 40, 41, 42, 43, 4...</td>\n",
       "      <td>[{}, {}, {}, {51}, {}]</td>\n",
       "    </tr>\n",
       "  </tbody>\n",
       "</table>\n",
       "</div>"
      ],
      "text/plain": [
       "                                                 week_num  \\\n",
       "region                                                      \n",
       "DE      [33, 34, 35, 36, 37, 38, 39, 40, 41, 42, 43, 4...   \n",
       "GB      [33, 34, 35, 36, 37, 38, 39, 40, 41, 42, 43, 4...   \n",
       "IN      [33, 34, 35, 36, 37, 38, 39, 40, 41, 42, 43, 4...   \n",
       "JP      [33, 34, 35, 36, 37, 38, 39, 40, 41, 42, 43, 4...   \n",
       "US      [33, 34, 35, 36, 37, 38, 39, 40, 41, 42, 43, 4...   \n",
       "\n",
       "                                diff  \n",
       "region                                \n",
       "DE            [{}, {}, {}, {51}, {}]  \n",
       "GB            [{}, {}, {}, {51}, {}]  \n",
       "IN            [{}, {}, {}, {51}, {}]  \n",
       "JP      [{51}, {51}, {51}, {}, {51}]  \n",
       "US            [{}, {}, {}, {51}, {}]  "
      ]
     },
     "execution_count": 352,
     "metadata": {},
     "output_type": "execute_result"
    }
   ],
   "source": [
    "rdf['diff'] = rdf.week_num.apply(lambda row: comp_sets(set(row)))\n",
    "rdf"
   ]
  },
  {
   "cell_type": "markdown",
   "id": "3915f0ec-d77a-4f93-a751-bef7cf3f8f44",
   "metadata": {},
   "source": [
    "3. How many ads are being sent to annotation in each region per week?"
   ]
  },
  {
   "cell_type": "code",
   "execution_count": 353,
   "id": "a5ea406a-de06-4c83-8ca7-dd00334ddabc",
   "metadata": {},
   "outputs": [
    {
     "data": {
      "text/html": [
       "<div>\n",
       "<style scoped>\n",
       "    .dataframe tbody tr th:only-of-type {\n",
       "        vertical-align: middle;\n",
       "    }\n",
       "\n",
       "    .dataframe tbody tr th {\n",
       "        vertical-align: top;\n",
       "    }\n",
       "\n",
       "    .dataframe thead th {\n",
       "        text-align: right;\n",
       "    }\n",
       "</style>\n",
       "<table border=\"1\" class=\"dataframe\">\n",
       "  <thead>\n",
       "    <tr style=\"text-align: right;\">\n",
       "      <th></th>\n",
       "      <th>region</th>\n",
       "      <th>week_id</th>\n",
       "      <th>ad_id</th>\n",
       "      <th>ads_per_week</th>\n",
       "    </tr>\n",
       "  </thead>\n",
       "  <tbody>\n",
       "    <tr>\n",
       "      <th>0</th>\n",
       "      <td>DE</td>\n",
       "      <td>26</td>\n",
       "      <td>54650</td>\n",
       "      <td>2101.923077</td>\n",
       "    </tr>\n",
       "    <tr>\n",
       "      <th>1</th>\n",
       "      <td>GB</td>\n",
       "      <td>26</td>\n",
       "      <td>64135</td>\n",
       "      <td>2466.730769</td>\n",
       "    </tr>\n",
       "    <tr>\n",
       "      <th>2</th>\n",
       "      <td>IN</td>\n",
       "      <td>26</td>\n",
       "      <td>61297</td>\n",
       "      <td>2357.576923</td>\n",
       "    </tr>\n",
       "    <tr>\n",
       "      <th>3</th>\n",
       "      <td>JP</td>\n",
       "      <td>25</td>\n",
       "      <td>38048</td>\n",
       "      <td>1521.920000</td>\n",
       "    </tr>\n",
       "    <tr>\n",
       "      <th>4</th>\n",
       "      <td>US</td>\n",
       "      <td>26</td>\n",
       "      <td>87323</td>\n",
       "      <td>3358.576923</td>\n",
       "    </tr>\n",
       "  </tbody>\n",
       "</table>\n",
       "</div>"
      ],
      "text/plain": [
       "  region  week_id  ad_id  ads_per_week\n",
       "0     DE       26  54650   2101.923077\n",
       "1     GB       26  64135   2466.730769\n",
       "2     IN       26  61297   2357.576923\n",
       "3     JP       25  38048   1521.920000\n",
       "4     US       26  87323   3358.576923"
      ]
     },
     "execution_count": 353,
     "metadata": {},
     "output_type": "execute_result"
    }
   ],
   "source": [
    "#avg amount of ads per week\n",
    "ad_recs_annotated.sample(5)\n",
    "df2 = ad_recs_annotated.groupby('region').nunique().reset_index()[['region', 'week_id', 'ad_id']]\n",
    "df2['ads_per_week'] = df2['ad_id']/df2['week_id']\n",
    "df2"
   ]
  },
  {
   "cell_type": "code",
   "execution_count": 356,
   "id": "a19e174f-7278-446b-8bc9-28bba5c0cef9",
   "metadata": {},
   "outputs": [
    {
     "data": {
      "text/html": [
       "<div>\n",
       "<style scoped>\n",
       "    .dataframe tbody tr th:only-of-type {\n",
       "        vertical-align: middle;\n",
       "    }\n",
       "\n",
       "    .dataframe tbody tr th {\n",
       "        vertical-align: top;\n",
       "    }\n",
       "\n",
       "    .dataframe thead th {\n",
       "        text-align: right;\n",
       "    }\n",
       "</style>\n",
       "<table border=\"1\" class=\"dataframe\">\n",
       "  <thead>\n",
       "    <tr style=\"text-align: right;\">\n",
       "      <th>region</th>\n",
       "      <th>DE</th>\n",
       "      <th>GB</th>\n",
       "      <th>IN</th>\n",
       "      <th>JP</th>\n",
       "      <th>US</th>\n",
       "    </tr>\n",
       "    <tr>\n",
       "      <th>week_id</th>\n",
       "      <th></th>\n",
       "      <th></th>\n",
       "      <th></th>\n",
       "      <th></th>\n",
       "      <th></th>\n",
       "    </tr>\n",
       "  </thead>\n",
       "  <tbody>\n",
       "    <tr>\n",
       "      <th>2021-week_33</th>\n",
       "      <td>2395.0</td>\n",
       "      <td>3180.0</td>\n",
       "      <td>3196.0</td>\n",
       "      <td>1611.0</td>\n",
       "      <td>3974.0</td>\n",
       "    </tr>\n",
       "    <tr>\n",
       "      <th>2021-week_34</th>\n",
       "      <td>2360.0</td>\n",
       "      <td>3187.0</td>\n",
       "      <td>3219.0</td>\n",
       "      <td>1599.0</td>\n",
       "      <td>4006.0</td>\n",
       "    </tr>\n",
       "    <tr>\n",
       "      <th>2021-week_35</th>\n",
       "      <td>2393.0</td>\n",
       "      <td>3209.0</td>\n",
       "      <td>3209.0</td>\n",
       "      <td>1580.0</td>\n",
       "      <td>3982.0</td>\n",
       "    </tr>\n",
       "    <tr>\n",
       "      <th>2021-week_36</th>\n",
       "      <td>2401.0</td>\n",
       "      <td>3209.0</td>\n",
       "      <td>3213.0</td>\n",
       "      <td>1589.0</td>\n",
       "      <td>3978.0</td>\n",
       "    </tr>\n",
       "    <tr>\n",
       "      <th>2021-week_37</th>\n",
       "      <td>2404.0</td>\n",
       "      <td>3181.0</td>\n",
       "      <td>3183.0</td>\n",
       "      <td>1644.0</td>\n",
       "      <td>3980.0</td>\n",
       "    </tr>\n",
       "  </tbody>\n",
       "</table>\n",
       "</div>"
      ],
      "text/plain": [
       "region            DE      GB      IN      JP      US\n",
       "week_id                                             \n",
       "2021-week_33  2395.0  3180.0  3196.0  1611.0  3974.0\n",
       "2021-week_34  2360.0  3187.0  3219.0  1599.0  4006.0\n",
       "2021-week_35  2393.0  3209.0  3209.0  1580.0  3982.0\n",
       "2021-week_36  2401.0  3209.0  3213.0  1589.0  3978.0\n",
       "2021-week_37  2404.0  3181.0  3183.0  1644.0  3980.0"
      ]
     },
     "execution_count": 356,
     "metadata": {},
     "output_type": "execute_result"
    }
   ],
   "source": [
    "#sum of ads each each week\n",
    "per_week = ad_recs_annotated.groupby(['week_id', 'region']).size()\n",
    "per_week = per_week.unstack('region')\n",
    "per_week.head()"
   ]
  },
  {
   "cell_type": "markdown",
   "id": "9a1a5741-16f0-42d4-95ae-e66d9133269b",
   "metadata": {},
   "source": [
    "4. How many None values are there in is_sever column?"
   ]
  },
  {
   "cell_type": "code",
   "execution_count": 357,
   "id": "b5c04c0b-e1f0-41ac-b372-4fb772def4b7",
   "metadata": {},
   "outputs": [
    {
     "data": {
      "text/plain": [
       "True     304195\n",
       "False     69593\n",
       "Name: is_severe, dtype: int64"
      ]
     },
     "execution_count": 357,
     "metadata": {},
     "output_type": "execute_result"
    }
   ],
   "source": [
    "ad_recs_annotated.is_severe.isna().value_counts()"
   ]
  },
  {
   "cell_type": "markdown",
   "id": "7a0e83b7-3868-4077-82b6-ee9efd5d6752",
   "metadata": {},
   "source": [
    "5. Are ads being sent more than one time in a given week? what is the ad_id that was sent the most in a given week? (e.g. ad X where sent 50 times in week Y)"
   ]
  },
  {
   "cell_type": "code",
   "execution_count": 364,
   "id": "1b0f710f-a10b-4295-81a7-d05ec83e77cd",
   "metadata": {},
   "outputs": [
    {
     "data": {
      "text/plain": [
       "recommendation_type    81\n",
       "Name: (2021-week_40, AD098SWYF6), dtype: int64"
      ]
     },
     "execution_count": 364,
     "metadata": {},
     "output_type": "execute_result"
    }
   ],
   "source": [
    "df3 = ad_recs_annotated[['week_id', 'ad_id', 'recommendation_type']]\n",
    "df3_counts = df3.groupby(['week_id', 'ad_id']).count()\n",
    "df3_counts[df3_counts['recommendation_type']>1]\n",
    "df3_counts.sort_values(by=['recommendation_type'], ascending=False).iloc[0]\n",
    "#df3_counts.recommendation_type.idxmax()"
   ]
  },
  {
   "cell_type": "markdown",
   "id": "85204367-e169-4de1-899c-5a9306c73124",
   "metadata": {},
   "source": [
    "6. Are there ads that are being sent in more than one week?\n",
    "   1. Which is the ad that was sent in most amount of weeks (e.g. ad X where sent in Y different weeks)\n",
    "   2. What are the weeks that the ad from above was sent in? \n",
    "   3. Is there an Ad that was succsefull in one week, but not succesfful in a different week? Show one."
   ]
  },
  {
   "cell_type": "code",
   "execution_count": 366,
   "id": "39163a45-e9a6-4253-b2e8-0d8d2c9d67f1",
   "metadata": {},
   "outputs": [
    {
     "name": "stdout",
     "output_type": "stream",
     "text": [
      "the ad that was sent in most amount of weeks is AD07PFFMP9\n"
     ]
    }
   ],
   "source": [
    "df3_counts2 = df3[['week_id', 'ad_id']].groupby(['ad_id']).count()\n",
    "\n",
    "req_ad = df3_counts2[df3_counts2['week_id']>1].reset_index()\\\n",
    ".sort_values(by='week_id', ascending=False)['ad_id'].iloc[0]\n",
    "\n",
    "print(f'the ad that was sent in most amount of weeks is {req_ad}')"
   ]
  },
  {
   "cell_type": "code",
   "execution_count": 367,
   "id": "b2366453-4313-4ffd-a66d-76670586d51b",
   "metadata": {},
   "outputs": [
    {
     "name": "stdout",
     "output_type": "stream",
     "text": [
      "7031      2021-week_33\n",
      "7032      2021-week_33\n",
      "20010     2021-week_34\n",
      "20011     2021-week_34\n",
      "35214     2021-week_35\n",
      "              ...     \n",
      "363533    2022-week_52\n",
      "363534    2022-week_52\n",
      "363535    2022-week_52\n",
      "363536    2022-week_52\n",
      "365817    2022-week_52\n",
      "Name: week_id, Length: 247, dtype: object\n"
     ]
    }
   ],
   "source": [
    "print(ad_recs_annotated[ad_recs_annotated['ad_id']==req_ad]['week_id'])"
   ]
  },
  {
   "cell_type": "code",
   "execution_count": 368,
   "id": "3f9355cf-3f1e-46b2-8288-d09b49e35fb6",
   "metadata": {},
   "outputs": [
    {
     "data": {
      "text/html": [
       "<div>\n",
       "<style scoped>\n",
       "    .dataframe tbody tr th:only-of-type {\n",
       "        vertical-align: middle;\n",
       "    }\n",
       "\n",
       "    .dataframe tbody tr th {\n",
       "        vertical-align: top;\n",
       "    }\n",
       "\n",
       "    .dataframe thead th {\n",
       "        text-align: right;\n",
       "    }\n",
       "</style>\n",
       "<table border=\"1\" class=\"dataframe\">\n",
       "  <thead>\n",
       "    <tr style=\"text-align: right;\">\n",
       "      <th></th>\n",
       "      <th>week_id</th>\n",
       "      <th>ad_id</th>\n",
       "      <th>requester</th>\n",
       "      <th>region</th>\n",
       "      <th>is_success</th>\n",
       "      <th>is_severe</th>\n",
       "      <th>recommendation_type</th>\n",
       "      <th>rec_provider</th>\n",
       "      <th>sample_year</th>\n",
       "      <th>week_num</th>\n",
       "      <th>quarter</th>\n",
       "      <th>is_success_flag</th>\n",
       "      <th>is_severe_no_nans</th>\n",
       "    </tr>\n",
       "  </thead>\n",
       "  <tbody>\n",
       "    <tr>\n",
       "      <th>10424</th>\n",
       "      <td>2021-week_33</td>\n",
       "      <td>AD00006IDK</td>\n",
       "      <td>Extreme DA</td>\n",
       "      <td>US</td>\n",
       "      <td>Yes</td>\n",
       "      <td>NaN</td>\n",
       "      <td>Yield</td>\n",
       "      <td>DNNY</td>\n",
       "      <td>2021</td>\n",
       "      <td>33</td>\n",
       "      <td>3</td>\n",
       "      <td>1</td>\n",
       "      <td>False</td>\n",
       "    </tr>\n",
       "    <tr>\n",
       "      <th>188039</th>\n",
       "      <td>2021-week_46</td>\n",
       "      <td>AD00006IDK</td>\n",
       "      <td>RelayFoods</td>\n",
       "      <td>DE</td>\n",
       "      <td>No</td>\n",
       "      <td>True</td>\n",
       "      <td>Quality</td>\n",
       "      <td>DNNQ</td>\n",
       "      <td>2021</td>\n",
       "      <td>46</td>\n",
       "      <td>4</td>\n",
       "      <td>0</td>\n",
       "      <td>True</td>\n",
       "    </tr>\n",
       "  </tbody>\n",
       "</table>\n",
       "</div>"
      ],
      "text/plain": [
       "             week_id       ad_id   requester region is_success is_severe  \\\n",
       "10424   2021-week_33  AD00006IDK  Extreme DA     US        Yes       NaN   \n",
       "188039  2021-week_46  AD00006IDK  RelayFoods     DE         No      True   \n",
       "\n",
       "       recommendation_type rec_provider sample_year  week_num  quarter  \\\n",
       "10424                Yield         DNNY        2021        33        3   \n",
       "188039             Quality         DNNQ        2021        46        4   \n",
       "\n",
       "        is_success_flag  is_severe_no_nans  \n",
       "10424                 1              False  \n",
       "188039                0               True  "
      ]
     },
     "execution_count": 368,
     "metadata": {},
     "output_type": "execute_result"
    }
   ],
   "source": [
    "df_count_success = ad_recs_annotated[['week_id', 'ad_id', 'is_success']].groupby('ad_id').nunique()\n",
    "df_count_success[(df_count_success['week_id']>=2) & (df_count_success['is_success']>1)].iloc[0]\n",
    "ad_recs_annotated[ad_recs_annotated['ad_id']=='AD00006IDK']"
   ]
  },
  {
   "cell_type": "markdown",
   "id": "c99fd6c5-90d8-4bf4-86ea-8cf56ef3c6ee",
   "metadata": {},
   "source": [
    "7. When is_sever is None, what is the number of successful requests? What is the number of non-successful requests? What do you learn from it about the reason for Nones in the first place? "
   ]
  },
  {
   "cell_type": "code",
   "execution_count": 369,
   "id": "47ebee7a-9ba0-4b46-990e-90e2b2bc5999",
   "metadata": {},
   "outputs": [
    {
     "name": "stdout",
     "output_type": "stream",
     "text": [
      "1    304189\n",
      "0         6\n",
      "Name: is_success_flag, dtype: int64\n",
      "NaN in is_severe should only appear in case of a not successful recommendation\n"
     ]
    }
   ],
   "source": [
    "print(ad_recs_annotated[ad_recs_annotated['is_severe'].isna()]['is_success_flag'].value_counts())\n",
    "print('NaN in is_severe should only appear in case of a not successful recommendation')"
   ]
  },
  {
   "cell_type": "markdown",
   "id": "808519d0-98e3-4cc5-b440-bf4db5fed2f8",
   "metadata": {},
   "source": [
    "8. Per each region, What is the Quality/Yield traffic proportion WoW?"
   ]
  },
  {
   "cell_type": "code",
   "execution_count": 428,
   "id": "d94679e8-5df8-4fc1-8b6e-81cf8279b762",
   "metadata": {},
   "outputs": [
    {
     "data": {
      "text/html": [
       "<div>\n",
       "<style scoped>\n",
       "    .dataframe tbody tr th:only-of-type {\n",
       "        vertical-align: middle;\n",
       "    }\n",
       "\n",
       "    .dataframe tbody tr th {\n",
       "        vertical-align: top;\n",
       "    }\n",
       "\n",
       "    .dataframe thead th {\n",
       "        text-align: right;\n",
       "    }\n",
       "</style>\n",
       "<table border=\"1\" class=\"dataframe\">\n",
       "  <thead>\n",
       "    <tr style=\"text-align: right;\">\n",
       "      <th></th>\n",
       "      <th></th>\n",
       "      <th>is_quality</th>\n",
       "      <th>is_yield</th>\n",
       "      <th>prop</th>\n",
       "    </tr>\n",
       "    <tr>\n",
       "      <th>region</th>\n",
       "      <th>week_id</th>\n",
       "      <th></th>\n",
       "      <th></th>\n",
       "      <th></th>\n",
       "    </tr>\n",
       "  </thead>\n",
       "  <tbody>\n",
       "    <tr>\n",
       "      <th>DE</th>\n",
       "      <th>2022-week_03</th>\n",
       "      <td>1881</td>\n",
       "      <td>497</td>\n",
       "      <td>3.784708</td>\n",
       "    </tr>\n",
       "    <tr>\n",
       "      <th>US</th>\n",
       "      <th>2021-week_42</th>\n",
       "      <td>1738</td>\n",
       "      <td>2266</td>\n",
       "      <td>0.766990</td>\n",
       "    </tr>\n",
       "    <tr>\n",
       "      <th>DE</th>\n",
       "      <th>2022-week_52</th>\n",
       "      <td>1676</td>\n",
       "      <td>706</td>\n",
       "      <td>2.373938</td>\n",
       "    </tr>\n",
       "    <tr>\n",
       "      <th>IN</th>\n",
       "      <th>2022-week_01</th>\n",
       "      <td>1333</td>\n",
       "      <td>1851</td>\n",
       "      <td>0.720151</td>\n",
       "    </tr>\n",
       "    <tr>\n",
       "      <th>US</th>\n",
       "      <th>2021-week_50</th>\n",
       "      <td>1865</td>\n",
       "      <td>2126</td>\n",
       "      <td>0.877234</td>\n",
       "    </tr>\n",
       "  </tbody>\n",
       "</table>\n",
       "</div>"
      ],
      "text/plain": [
       "                     is_quality  is_yield      prop\n",
       "region week_id                                     \n",
       "DE     2022-week_03        1881       497  3.784708\n",
       "US     2021-week_42        1738      2266  0.766990\n",
       "DE     2022-week_52        1676       706  2.373938\n",
       "IN     2022-week_01        1333      1851  0.720151\n",
       "US     2021-week_50        1865      2126  0.877234"
      ]
     },
     "execution_count": 428,
     "metadata": {},
     "output_type": "execute_result"
    }
   ],
   "source": [
    "df_wow = ad_recs_annotated[['region','week_id', 'recommendation_type']]\n",
    "df_wow['is_quality'] = df_wow.recommendation_type.apply(lambda x: 1 if x=='Quality' else 0)\n",
    "df_wow['is_yield'] = df_wow.recommendation_type.apply(lambda x: 1 if x=='Yield' else 0)\n",
    "df_wow = df_wow.groupby(['region','week_id']).sum()\n",
    "df_wow['prop'] = (df_wow.is_quality / df_wow.is_yield)\n",
    "df_wow.sample(5)"
   ]
  },
  {
   "cell_type": "markdown",
   "id": "6018a582-cc72-4b6a-b413-4149340664ad",
   "metadata": {},
   "source": [
    "9. How many different reqeusters are there?"
   ]
  },
  {
   "cell_type": "code",
   "execution_count": 429,
   "id": "27710a05-7034-4759-96b3-eff7ab89d662",
   "metadata": {},
   "outputs": [
    {
     "data": {
      "text/plain": [
       "36"
      ]
     },
     "execution_count": 429,
     "metadata": {},
     "output_type": "execute_result"
    }
   ],
   "source": [
    "ad_recs_annotated['requester'].nunique()"
   ]
  },
  {
   "cell_type": "markdown",
   "id": "123d292e-52d3-45cd-a17a-8853ac9c8885",
   "metadata": {},
   "source": [
    "10. Which are the top 5 requesters per region?"
   ]
  },
  {
   "cell_type": "code",
   "execution_count": 449,
   "id": "97ded821-f614-43ef-b6e2-680fdb377810",
   "metadata": {},
   "outputs": [
    {
     "data": {
      "text/plain": [
       "region  region  requester             \n",
       "DE      DE      Search Million Culture    23657\n",
       "                RelayFoods                17313\n",
       "                MoJoe Brewing Company      8616\n",
       "                iDreamsky Technology       3542\n",
       "                SOLOMO365                  2435\n",
       "GB      GB      Search Million Culture    28002\n",
       "                RelayFoods                15920\n",
       "                Fancy                     13678\n",
       "                MoJoe Brewing Company      9530\n",
       "                iDreamsky Technology       3919\n",
       "IN      IN      Puentes Company           29427\n",
       "                Search Million Culture    21365\n",
       "                RelayFoods                17352\n",
       "                MoJoe Brewing Company      7191\n",
       "                iDreamsky Technology       1995\n",
       "JP      JP      RelayFoods                24574\n",
       "                Search Million Culture     7906\n",
       "                MoJoe Brewing Company      3549\n",
       "                LocalVox Media             1724\n",
       "                Tab Solutions              1366\n",
       "US      US      Extreme DA                57215\n",
       "                Fancy                     18668\n",
       "                Tab Solutions              9790\n",
       "                Search Million Culture     5610\n",
       "                Sensor Tower               3503\n",
       "Name: is_success_flag, dtype: int64"
      ]
     },
     "execution_count": 449,
     "metadata": {},
     "output_type": "execute_result"
    }
   ],
   "source": [
    "ad_recs_annotated.groupby(['region','requester'])['is_success_flag'].count()\\\n",
    ".sort_values(ascending=False).groupby('region').nlargest(5)"
   ]
  },
  {
   "cell_type": "markdown",
   "id": "af693992-9a06-4db3-a4dc-f3bc81785752",
   "metadata": {},
   "source": [
    "11. Which are the different rec_proivders?"
   ]
  },
  {
   "cell_type": "code",
   "execution_count": 431,
   "id": "9e227957-550b-4171-9eb0-46cda6cb75c5",
   "metadata": {},
   "outputs": [
    {
     "data": {
      "text/plain": [
       "DNNQ                 117424\n",
       "UserPopQ              69937\n",
       "DNNY                  45116\n",
       "UserPopY              38600\n",
       "RuleBasedY            28154\n",
       "RNNQ                  20983\n",
       "ManualQ               13844\n",
       "RNNY                  12732\n",
       "XGBQ                  12250\n",
       "XGBY                   4276\n",
       "BooksY                 4150\n",
       "UserPopSelectionQ      2417\n",
       "ManualY                1982\n",
       "BooksQ                 1720\n",
       "RuleBased               182\n",
       "UserPopSelectionY        21\n",
       "Name: rec_provider, dtype: int64"
      ]
     },
     "execution_count": 431,
     "metadata": {},
     "output_type": "execute_result"
    }
   ],
   "source": [
    "ad_recs_annotated['rec_provider'].value_counts()"
   ]
  },
  {
   "cell_type": "markdown",
   "id": "0d5bcbc4-d1dd-4943-8c61-dad4898b6b7c",
   "metadata": {},
   "source": [
    "12. Are there different rec providers per region?"
   ]
  },
  {
   "cell_type": "code",
   "execution_count": 435,
   "id": "f0499900-a5c3-4f56-98de-d6232cb23972",
   "metadata": {},
   "outputs": [
    {
     "data": {
      "text/plain": [
       "region\n",
       "DE     9\n",
       "GB    12\n",
       "IN     6\n",
       "JP     9\n",
       "US    14\n",
       "Name: rec_provider, dtype: int64"
      ]
     },
     "execution_count": 435,
     "metadata": {},
     "output_type": "execute_result"
    }
   ],
   "source": [
    "ad_recs_annotated.groupby('region')['rec_provider'].nunique()"
   ]
  },
  {
   "cell_type": "markdown",
   "id": "5c91c7d7-e6cf-4b42-8e74-79bfba429ee9",
   "metadata": {},
   "source": [
    "13. Are there different rec providers per rec type?"
   ]
  },
  {
   "cell_type": "code",
   "execution_count": 437,
   "id": "9871a989-6aa5-4ab4-868e-58c9f4c3436c",
   "metadata": {},
   "outputs": [
    {
     "data": {
      "text/plain": [
       "recommendation_type  rec_provider     \n",
       "Quality              BooksQ               1\n",
       "                     DNNQ                 1\n",
       "                     ManualQ              1\n",
       "                     ManualY              1\n",
       "                     RNNQ                 1\n",
       "                     RuleBased            1\n",
       "                     UserPopQ             1\n",
       "                     UserPopSelectionQ    1\n",
       "                     XGBQ                 1\n",
       "Yield                BooksY               1\n",
       "                     DNNY                 1\n",
       "                     ManualQ              1\n",
       "                     ManualY              1\n",
       "                     RNNY                 1\n",
       "                     RuleBasedY           1\n",
       "                     UserPopSelectionY    1\n",
       "                     UserPopY             1\n",
       "                     XGBY                 1\n",
       "Name: rec_provider, dtype: int64"
      ]
     },
     "execution_count": 437,
     "metadata": {},
     "output_type": "execute_result"
    }
   ],
   "source": [
    "ad_recs_annotated.groupby(['recommendation_type', 'rec_provider'])['rec_provider'].nunique()"
   ]
  },
  {
   "cell_type": "markdown",
   "id": "e672c9c1-786f-4fec-8913-2f84502c4c96",
   "metadata": {},
   "source": [
    "14. What are the notation rules distinguishing between quality vs yielding providers?"
   ]
  },
  {
   "cell_type": "code",
   "execution_count": 438,
   "id": "caba6de4-568d-41c6-b5a6-86b655a63f5a",
   "metadata": {},
   "outputs": [],
   "source": [
    "#from the previous q we can see that apart from manual, all yield end with \"Y\",\n",
    "#and all quality end with \"Q\""
   ]
  },
  {
   "cell_type": "markdown",
   "id": "c836b1d3-54d0-40c4-84e9-4520abbe0aca",
   "metadata": {},
   "source": [
    "15. Which is the most successful region of operation?"
   ]
  },
  {
   "cell_type": "code",
   "execution_count": 442,
   "id": "7a400064-cbbc-4750-84b8-08c5ada85387",
   "metadata": {},
   "outputs": [
    {
     "data": {
      "text/plain": [
       "'US'"
      ]
     },
     "execution_count": 442,
     "metadata": {},
     "output_type": "execute_result"
    }
   ],
   "source": [
    "ad_recs_annotated.groupby('region')['is_success_flag'].sum().idxmax()"
   ]
  },
  {
   "cell_type": "markdown",
   "id": "ed66d6c8-5a9b-46df-94b7-643ab48ed064",
   "metadata": {},
   "source": [
    "16. Which is the most successful rec provider per each region?"
   ]
  },
  {
   "cell_type": "code",
   "execution_count": 448,
   "id": "1fdc3fb9-6b23-4288-89be-6dedafdb2610",
   "metadata": {},
   "outputs": [
    {
     "data": {
      "text/plain": [
       "region  region  rec_provider\n",
       "DE      DE      DNNQ            27215\n",
       "GB      GB      DNNQ            34681\n",
       "IN      IN      UserPopQ        30407\n",
       "JP      JP      DNNQ            20113\n",
       "US      US      DNNY            25705\n",
       "Name: is_success_flag, dtype: int64"
      ]
     },
     "execution_count": 448,
     "metadata": {},
     "output_type": "execute_result"
    }
   ],
   "source": [
    "ad_recs_annotated.groupby(['region', 'rec_provider'])['is_success_flag'].sum()\\\n",
    ".sort_values(ascending=False).groupby('region').nlargest(1)"
   ]
  },
  {
   "cell_type": "code",
   "execution_count": null,
   "id": "53db3cce-06b8-462f-9bef-cb41c40b114b",
   "metadata": {},
   "outputs": [],
   "source": []
  },
  {
   "cell_type": "code",
   "execution_count": null,
   "id": "0de70a17-fbf3-4792-84e6-64fa2b849d46",
   "metadata": {},
   "outputs": [],
   "source": []
  },
  {
   "cell_type": "code",
   "execution_count": null,
   "id": "2c42f907-07e5-4c46-b632-0cca257af534",
   "metadata": {},
   "outputs": [],
   "source": []
  },
  {
   "cell_type": "code",
   "execution_count": null,
   "id": "f6389e02-1867-477d-8d0e-a694fd4f360e",
   "metadata": {},
   "outputs": [],
   "source": []
  },
  {
   "cell_type": "code",
   "execution_count": null,
   "id": "5a62fc06-69c5-49c6-8c6f-61116c5ea678",
   "metadata": {},
   "outputs": [],
   "source": []
  },
  {
   "cell_type": "code",
   "execution_count": null,
   "id": "e16e8eb5-1e85-4814-9b0b-60575436e86b",
   "metadata": {},
   "outputs": [],
   "source": []
  },
  {
   "cell_type": "code",
   "execution_count": null,
   "id": "ec1810d8-22eb-49b0-9a0f-e527c2817323",
   "metadata": {},
   "outputs": [],
   "source": []
  },
  {
   "cell_type": "code",
   "execution_count": null,
   "id": "8ad41644-03d1-48f2-b62e-4a500f1cde1d",
   "metadata": {},
   "outputs": [],
   "source": []
  }
 ],
 "metadata": {
  "kernelspec": {
   "display_name": "Python 3",
   "language": "python",
   "name": "python3"
  },
  "language_info": {
   "codemirror_mode": {
    "name": "ipython",
    "version": 3
   },
   "file_extension": ".py",
   "mimetype": "text/x-python",
   "name": "python",
   "nbconvert_exporter": "python",
   "pygments_lexer": "ipython3",
   "version": "3.8.8"
  }
 },
 "nbformat": 4,
 "nbformat_minor": 5
}
